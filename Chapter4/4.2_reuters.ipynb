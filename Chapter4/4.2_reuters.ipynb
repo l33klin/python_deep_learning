{
 "cells": [
  {
   "cell_type": "code",
   "execution_count": 1,
   "id": "307e328b-6b2a-4462-9f3b-43f943e2eac6",
   "metadata": {},
   "outputs": [
    {
     "name": "stderr",
     "output_type": "stream",
     "text": [
      "2023-07-30 00:00:27.230691: I tensorflow/core/platform/cpu_feature_guard.cc:182] This TensorFlow binary is optimized to use available CPU instructions in performance-critical operations.\n",
      "To enable the following instructions: AVX2 FMA, in other operations, rebuild TensorFlow with the appropriate compiler flags.\n"
     ]
    },
    {
     "name": "stdout",
     "output_type": "stream",
     "text": [
      "Downloading data from https://storage.googleapis.com/tensorflow/tf-keras-datasets/reuters.npz\n",
      "2110848/2110848 [==============================] - 1s 1us/step\n"
     ]
    }
   ],
   "source": [
    "from tensorflow.keras.datasets import reuters\n",
    "(train_data, train_labels), (test_data,  test_labels) = reuters.load_data(\n",
    "    num_words=10000)"
   ]
  },
  {
   "cell_type": "code",
   "execution_count": 2,
   "id": "f675dddd-044b-44d0-b3aa-1d149792ea7a",
   "metadata": {},
   "outputs": [
    {
     "data": {
      "text/plain": [
       "8982"
      ]
     },
     "execution_count": 2,
     "metadata": {},
     "output_type": "execute_result"
    }
   ],
   "source": [
    "len(train_data)"
   ]
  },
  {
   "cell_type": "code",
   "execution_count": 3,
   "id": "5234e3bd-ab93-485e-9306-3aee4158d48e",
   "metadata": {},
   "outputs": [
    {
     "data": {
      "text/plain": [
       "[1,\n",
       " 3267,\n",
       " 699,\n",
       " 3434,\n",
       " 2295,\n",
       " 56,\n",
       " 2,\n",
       " 7511,\n",
       " 9,\n",
       " 56,\n",
       " 3906,\n",
       " 1073,\n",
       " 81,\n",
       " 5,\n",
       " 1198,\n",
       " 57,\n",
       " 366,\n",
       " 737,\n",
       " 132,\n",
       " 20,\n",
       " 4093,\n",
       " 7,\n",
       " 2,\n",
       " 49,\n",
       " 2295,\n",
       " 2,\n",
       " 1037,\n",
       " 3267,\n",
       " 699,\n",
       " 3434,\n",
       " 8,\n",
       " 7,\n",
       " 10,\n",
       " 241,\n",
       " 16,\n",
       " 855,\n",
       " 129,\n",
       " 231,\n",
       " 783,\n",
       " 5,\n",
       " 4,\n",
       " 587,\n",
       " 2295,\n",
       " 2,\n",
       " 2,\n",
       " 775,\n",
       " 7,\n",
       " 48,\n",
       " 34,\n",
       " 191,\n",
       " 44,\n",
       " 35,\n",
       " 1795,\n",
       " 505,\n",
       " 17,\n",
       " 12]"
      ]
     },
     "execution_count": 3,
     "metadata": {},
     "output_type": "execute_result"
    }
   ],
   "source": [
    "train_data[1]"
   ]
  },
  {
   "cell_type": "code",
   "execution_count": 4,
   "id": "ec884eac-9308-43e2-9af0-af30116f7d64",
   "metadata": {},
   "outputs": [
    {
     "data": {
      "text/plain": [
       "4"
      ]
     },
     "execution_count": 4,
     "metadata": {},
     "output_type": "execute_result"
    }
   ],
   "source": [
    "train_labels[1]"
   ]
  },
  {
   "cell_type": "code",
   "execution_count": 10,
   "id": "8289f6c0-17a4-449a-b304-f2f5fa31b905",
   "metadata": {},
   "outputs": [],
   "source": [
    "word_index = reuters.get_word_index() # ←---- word_index是一个将单词映射为整数索引的字典\n",
    "reverse_word_index = dict(\n",
    "    [(value, key) for (key, value) in word_index.items()]) # ←----将字典的键和值交换，将整数索引映射为单词\n",
    "decoded_review = \" \".join(\n",
    "    [reverse_word_index.get(i-3, \"?\") for i in train_data[0]]) # ←----对评论解码。注意，索引减去了3，因为0、1、2分别是为“padding”（填充）、“start of sequence”（序列开始）、“unknown”（未知词）保留的索引"
   ]
  },
  {
   "cell_type": "code",
   "execution_count": 11,
   "id": "3a20d967-f93c-4570-a3b8-fa413f41cf54",
   "metadata": {},
   "outputs": [
    {
     "data": {
      "text/plain": [
       "'? ? ? said as a result of its december acquisition of space co it expects earnings per share in 1987 of 1 15 to 1 30 dlrs per share up from 70 cts in 1986 the company said pretax net should rise to nine to 10 mln dlrs from six mln dlrs in 1986 and rental operation revenues to 19 to 22 mln dlrs from 12 5 mln dlrs it said cash flow per share this year should be 2 50 to three dlrs reuter 3'"
      ]
     },
     "execution_count": 11,
     "metadata": {},
     "output_type": "execute_result"
    }
   ],
   "source": [
    "decoded_review"
   ]
  },
  {
   "cell_type": "code",
   "execution_count": 13,
   "id": "13051786-e474-4f3d-bab1-adebe7e0604a",
   "metadata": {},
   "outputs": [],
   "source": [
    "import numpy as np\n",
    "def vectorize_sequences(sequences, dimension=10000):\n",
    "    results = np.zeros((len(sequences), dimension)) # ←----创建一个形状为(len(sequences), dimension)的零矩阵\n",
    "    for i, sequence in enumerate(sequences):\n",
    "        for j in sequence:\n",
    "            results[i, j] = 1. # ←----将results[i]某些索引对应的值设为1\n",
    "    return results\n",
    "x_train = vectorize_sequences(train_data) # ←----将训练数据向量化\n",
    "x_test = vectorize_sequences(test_data) # ←----将测试数据向量化"
   ]
  },
  {
   "cell_type": "code",
   "execution_count": 15,
   "id": "8faf2ad8-982b-484f-a24d-7ed20a0bbfff",
   "metadata": {},
   "outputs": [],
   "source": [
    "from tensorflow.keras.utils import to_categorical\n",
    "y_train = to_categorical(train_labels)\n",
    "y_test = to_categorical(test_labels)"
   ]
  },
  {
   "cell_type": "code",
   "execution_count": 20,
   "id": "8a45bd0e-6cb8-4ed8-9d11-61594618ec82",
   "metadata": {},
   "outputs": [],
   "source": [
    "from tensorflow import keras\n",
    "from tensorflow.keras import layers\n",
    "model = keras.Sequential([\n",
    "    layers.Dense(64, activation=\"relu\"),\n",
    "    layers.Dense(64, activation=\"relu\"),\n",
    "    layers.Dense(46, activation=\"softmax\")\n",
    "])"
   ]
  },
  {
   "cell_type": "code",
   "execution_count": 21,
   "id": "8808f582-fc3b-4325-ae65-0f71043a3678",
   "metadata": {},
   "outputs": [],
   "source": [
    "model.compile(optimizer=\"rmsprop\",\n",
    "              loss=\"categorical_crossentropy\",\n",
    "              metrics=[\"accuracy\"])"
   ]
  },
  {
   "cell_type": "code",
   "execution_count": 22,
   "id": "5549d38d-817c-4a32-9dfe-ae3941753bd9",
   "metadata": {},
   "outputs": [],
   "source": [
    "x_val = x_train[:1000]\n",
    "partial_x_train = x_train[1000:]\n",
    "y_val = y_train[:1000]\n",
    "partial_y_train = y_train[1000:]"
   ]
  },
  {
   "cell_type": "code",
   "execution_count": 23,
   "id": "2802f2ca-6d94-4583-a5f5-7b4b37d728d8",
   "metadata": {},
   "outputs": [
    {
     "name": "stdout",
     "output_type": "stream",
     "text": [
      "Epoch 1/20\n",
      "16/16 [==============================] - 3s 55ms/step - loss: 2.8408 - accuracy: 0.4955 - val_loss: 1.9044 - val_accuracy: 0.6380\n",
      "Epoch 2/20\n",
      "16/16 [==============================] - 0s 20ms/step - loss: 1.6137 - accuracy: 0.6758 - val_loss: 1.4324 - val_accuracy: 0.6940\n",
      "Epoch 3/20\n",
      "16/16 [==============================] - 0s 19ms/step - loss: 1.2409 - accuracy: 0.7360 - val_loss: 1.2279 - val_accuracy: 0.7280\n",
      "Epoch 4/20\n",
      "16/16 [==============================] - 0s 22ms/step - loss: 1.0239 - accuracy: 0.7762 - val_loss: 1.1020 - val_accuracy: 0.7670\n",
      "Epoch 5/20\n",
      "16/16 [==============================] - 0s 19ms/step - loss: 0.8624 - accuracy: 0.8140 - val_loss: 1.0310 - val_accuracy: 0.7760\n",
      "Epoch 6/20\n",
      "16/16 [==============================] - 0s 22ms/step - loss: 0.7272 - accuracy: 0.8418 - val_loss: 1.0105 - val_accuracy: 0.7690\n",
      "Epoch 7/20\n",
      "16/16 [==============================] - 0s 18ms/step - loss: 0.6096 - accuracy: 0.8713 - val_loss: 0.9448 - val_accuracy: 0.7910\n",
      "Epoch 8/20\n",
      "16/16 [==============================] - 0s 16ms/step - loss: 0.5131 - accuracy: 0.8928 - val_loss: 0.9183 - val_accuracy: 0.8000\n",
      "Epoch 9/20\n",
      "16/16 [==============================] - 0s 18ms/step - loss: 0.4387 - accuracy: 0.9117 - val_loss: 0.9120 - val_accuracy: 0.8010\n",
      "Epoch 10/20\n",
      "16/16 [==============================] - 0s 20ms/step - loss: 0.3726 - accuracy: 0.9245 - val_loss: 0.8574 - val_accuracy: 0.8250\n",
      "Epoch 11/20\n",
      "16/16 [==============================] - 0s 23ms/step - loss: 0.3237 - accuracy: 0.9332 - val_loss: 0.8826 - val_accuracy: 0.8290\n",
      "Epoch 12/20\n",
      "16/16 [==============================] - 0s 21ms/step - loss: 0.2794 - accuracy: 0.9412 - val_loss: 0.8780 - val_accuracy: 0.8160\n",
      "Epoch 13/20\n",
      "16/16 [==============================] - 0s 20ms/step - loss: 0.2465 - accuracy: 0.9463 - val_loss: 0.8645 - val_accuracy: 0.8250\n",
      "Epoch 14/20\n",
      "16/16 [==============================] - 0s 19ms/step - loss: 0.2225 - accuracy: 0.9496 - val_loss: 0.8883 - val_accuracy: 0.8200\n",
      "Epoch 15/20\n",
      "16/16 [==============================] - 0s 18ms/step - loss: 0.1985 - accuracy: 0.9514 - val_loss: 0.8957 - val_accuracy: 0.8060\n",
      "Epoch 16/20\n",
      "16/16 [==============================] - 0s 19ms/step - loss: 0.1849 - accuracy: 0.9528 - val_loss: 0.9089 - val_accuracy: 0.8090\n",
      "Epoch 17/20\n",
      "16/16 [==============================] - 0s 20ms/step - loss: 0.1686 - accuracy: 0.9541 - val_loss: 0.9099 - val_accuracy: 0.8080\n",
      "Epoch 18/20\n",
      "16/16 [==============================] - 0s 21ms/step - loss: 0.1627 - accuracy: 0.9545 - val_loss: 0.9472 - val_accuracy: 0.7950\n",
      "Epoch 19/20\n",
      "16/16 [==============================] - 0s 22ms/step - loss: 0.1491 - accuracy: 0.9546 - val_loss: 0.9346 - val_accuracy: 0.8080\n",
      "Epoch 20/20\n",
      "16/16 [==============================] - 0s 27ms/step - loss: 0.1417 - accuracy: 0.9563 - val_loss: 0.9666 - val_accuracy: 0.8060\n"
     ]
    }
   ],
   "source": [
    "history = model.fit(partial_x_train,\n",
    "                    partial_y_train,\n",
    "                    epochs=20,\n",
    "                    batch_size=512,\n",
    "                    validation_data=(x_val, y_val))"
   ]
  },
  {
   "cell_type": "code",
   "execution_count": 25,
   "id": "de663b8d-5081-4516-819b-a9fea6d6ff7a",
   "metadata": {},
   "outputs": [
    {
     "data": {
      "image/png": "[encoded data removed]",
      "text/plain": [
       "<Figure size 640x480 with 1 Axes>"
      ]
     },
     "metadata": {},
     "output_type": "display_data"
    }
   ],
   "source": [
    "import matplotlib.pyplot as plt\n",
    "loss = history.history[\"loss\"]\n",
    "val_loss = history.history[\"val_loss\"]\n",
    "epochs = range(1, len(loss) + 1)\n",
    "plt.plot(epochs, loss, \"bo\", label=\"Training loss\")\n",
    "plt.plot(epochs, val_loss, \"b\", label=\"Validation loss\")\n",
    "plt.title(\"Training and validation loss\")\n",
    "plt.xlabel(\"Epochs\")\n",
    "plt.ylabel(\"Loss\")\n",
    "plt.legend()\n",
    "plt.show()"
   ]
  },
  {
   "cell_type": "code",
   "execution_count": 26,
   "id": "6fd98f1d-0f5b-4483-9ad9-ee7b4ac21570",
   "metadata": {},
   "outputs": [
    {
     "data": {
      "image/png": "[encoded data removed]",
      "text/plain": [
       "<Figure size 640x480 with 1 Axes>"
      ]
     },
     "metadata": {},
     "output_type": "display_data"
    }
   ],
   "source": [
    "plt.clf() # ←----清空图像\n",
    "acc = history.history[\"accuracy\"]\n",
    "val_acc = history.history[\"val_accuracy\"]\n",
    "plt.plot(epochs, acc, \"bo\", label=\"Training accuracy\")\n",
    "plt.plot(epochs, val_acc, \"b\", label=\"Validation accuracy\")\n",
    "plt.title(\"Training and validation accuracy\")\n",
    "plt.xlabel(\"Epochs\")\n",
    "plt.ylabel(\"Accuracy\")\n",
    "plt.legend()\n",
    "plt.show()"
   ]
  },
  {
   "cell_type": "code",
   "execution_count": 27,
   "id": "fee218f3-3f64-4a0f-af74-5e471bb2e0b0",
   "metadata": {},
   "outputs": [
    {
     "name": "stdout",
     "output_type": "stream",
     "text": [
      "Epoch 1/9\n",
      "18/18 [==============================] - 1s 16ms/step - loss: 2.6873 - accuracy: 0.4921\n",
      "Epoch 2/9\n",
      "18/18 [==============================] - 0s 16ms/step - loss: 1.5171 - accuracy: 0.6656\n",
      "Epoch 3/9\n",
      "18/18 [==============================] - 0s 16ms/step - loss: 1.1585 - accuracy: 0.7497\n",
      "Epoch 4/9\n",
      "18/18 [==============================] - 0s 20ms/step - loss: 0.9371 - accuracy: 0.7977\n",
      "Epoch 5/9\n",
      "18/18 [==============================] - 0s 16ms/step - loss: 0.7700 - accuracy: 0.8319\n",
      "Epoch 6/9\n",
      "18/18 [==============================] - 0s 15ms/step - loss: 0.6408 - accuracy: 0.8597\n",
      "Epoch 7/9\n",
      "18/18 [==============================] - 0s 15ms/step - loss: 0.5298 - accuracy: 0.8888\n",
      "Epoch 8/9\n",
      "18/18 [==============================] - 0s 15ms/step - loss: 0.4473 - accuracy: 0.9048\n",
      "Epoch 9/9\n",
      "18/18 [==============================] - 0s 15ms/step - loss: 0.3787 - accuracy: 0.9204\n",
      "71/71 [==============================] - 0s 2ms/step - loss: 0.9183 - accuracy: 0.7898\n"
     ]
    }
   ],
   "source": [
    "model = keras.Sequential([\n",
    "    layers.Dense(64, activation=\"relu\"),\n",
    "    layers.Dense(64, activation=\"relu\"),\n",
    "    layers.Dense(46, activation=\"softmax\")\n",
    "])\n",
    "model.compile(optimizer=\"rmsprop\",\n",
    "              loss=\"categorical_crossentropy\",\n",
    "              metrics=[\"accuracy\"])\n",
    "model.fit(x_train,\n",
    "          y_train,\n",
    "          epochs=9,\n",
    "          batch_size=512)\n",
    "results = model.evaluate(x_test, y_test)"
   ]
  },
  {
   "cell_type": "code",
   "execution_count": 28,
   "id": "313ed5f6-89ec-429e-9eef-0dfe96c0aafa",
   "metadata": {},
   "outputs": [
    {
     "data": {
      "text/plain": [
       "[0.918337345123291, 0.7898486256599426]"
      ]
     },
     "execution_count": 28,
     "metadata": {},
     "output_type": "execute_result"
    }
   ],
   "source": [
    "results"
   ]
  },
  {
   "cell_type": "code",
   "execution_count": 29,
   "id": "896bf1bd-a562-44d9-8104-c9f9673a0ce6",
   "metadata": {},
   "outputs": [
    {
     "name": "stdout",
     "output_type": "stream",
     "text": [
      "71/71 [==============================] - 0s 2ms/step\n"
     ]
    }
   ],
   "source": [
    "predictions = model.predict(x_test)"
   ]
  },
  {
   "cell_type": "code",
   "execution_count": 30,
   "id": "7578ce0f-24dc-4b78-b043-772f7dc6411f",
   "metadata": {},
   "outputs": [
    {
     "data": {
      "text/plain": [
       "array([8.6629016e-06, 3.5391757e-04, 3.5156845e-06, 8.8416725e-01,\n",
       "       1.0776884e-01, 1.3296067e-04, 9.7633929e-05, 8.2746537e-06,\n",
       "       2.0128514e-03, 3.1604639e-05, 4.3734773e-05, 1.0136871e-03,\n",
       "       8.3692590e-05, 7.0136288e-05, 1.0190876e-05, 5.8993461e-05,\n",
       "       7.7942509e-04, 7.3356641e-06, 6.5802669e-05, 6.0538313e-04,\n",
       "       6.5023178e-04, 2.7227568e-04, 1.8128985e-05, 4.5661887e-05,\n",
       "       2.6323240e-05, 9.7885189e-05, 1.0009634e-06, 8.2356637e-05,\n",
       "       2.1597049e-04, 9.1993308e-05, 5.0487120e-05, 2.6102205e-05,\n",
       "       1.2735055e-04, 5.7870017e-07, 1.8074995e-04, 8.1573826e-06,\n",
       "       3.4228130e-04, 7.8144461e-07, 3.6979567e-05, 2.8085618e-04,\n",
       "       3.3770517e-05, 4.1512347e-05, 1.4750348e-05, 8.7444605e-06,\n",
       "       3.5857638e-06, 1.7673008e-05], dtype=float32)"
      ]
     },
     "execution_count": 30,
     "metadata": {},
     "output_type": "execute_result"
    }
   ],
   "source": [
    "predictions[0]"
   ]
  },
  {
   "cell_type": "code",
   "execution_count": 31,
   "id": "c56a1395-051f-41c7-a12e-62953ec52bb2",
   "metadata": {},
   "outputs": [
    {
     "data": {
      "text/plain": [
       "3"
      ]
     },
     "execution_count": 31,
     "metadata": {},
     "output_type": "execute_result"
    }
   ],
   "source": [
    "np.argmax(predictions[0])"
   ]
  },
  {
   "cell_type": "code",
   "execution_count": null,
   "id": "dd908765-4252-4994-bc45-3b20cfc1a746",
   "metadata": {},
   "outputs": [],
   "source": []
  }
 ],
 "metadata": {
  "kernelspec": {
   "display_name": "Python 3 (ipykernel)",
   "language": "python",
   "name": "python3"
  },
  "language_info": {
   "codemirror_mode": {
    "name": "ipython",
    "version": 3
   },
   "file_extension": ".py",
   "mimetype": "text/x-python",
   "name": "python",
   "nbconvert_exporter": "python",
   "pygments_lexer": "ipython3",
   "version": "3.9.0"
  }
 },
 "nbformat": 4,
 "nbformat_minor": 5
}
